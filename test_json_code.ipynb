{
 "cells": [
  {
   "cell_type": "code",
   "execution_count": 1,
   "metadata": {},
   "outputs": [],
   "source": [
    "import pandas as pd\n",
    "import random\n",
    "import json as jj\n",
    "from flask import Flask, request, jsonify, abort, redirect, url_for, render_template, send_file, json"
   ]
  },
  {
   "cell_type": "code",
   "execution_count": 12,
   "metadata": {},
   "outputs": [
    {
     "name": "stdout",
     "output_type": "stream",
     "text": [
      "   id                                               test  class\n",
      "0   1                                     мама мыла раму     10\n",
      "1   2  требуется мыть все рабочие плоскости оборудова...      7\n",
      "2   3                                      папа мыл раму      1\n",
      "3   4                                   сестра мыла раму      9\n",
      "4   5                                      конь мыл раму     10\n",
      "5   6                                      лось мыл раму      3\n",
      "[[ 1 10]\n",
      " [ 2  7]\n",
      " [ 3  1]\n",
      " [ 4  9]\n",
      " [ 5 10]\n",
      " [ 6  3]]\n",
      "{\"id\":[1, 2, 3, 4, 5, 6],\"class\":[10, 7, 1, 9, 10, 3]}\n"
     ]
    }
   ],
   "source": [
    "js_test = '{\"id\": [1,2,3,4,5,6],\"test\": [\"мама мыла раму\",\"требуется мыть все рабочие плоскости оборудования составом с мылом, и не менее 18 раз\",\"папа мыл раму\",\"сестра мыла раму\",\"конь мыл раму\",\"лось мыл раму\"]}'\n",
    "\n",
    "#content = json.load(js_test)\n",
    "data = pd.read_json(js_test)\n",
    "#data = pd.DataFrame(content)\n",
    "data.loc[:,'class'] = [random.randint(1, 10) for x in range(data.shape[0])]\n",
    "print(data)\n",
    "#params = np.array(params).reshape(1,-1)\n",
    "\n",
    "#predict =knn.predict(params)\n",
    "\n",
    "#print(predict) \n",
    "#predict = {'class': str(predict[0])}\n",
    "print(data.loc[:,['id', 'class']].values)\n",
    "print('{\"id\":'+str(list(data.id.values))+ ',\"class\":' + str(list(data['class'].values))+'}')\n",
    "\n",
    "\n"
   ]
  },
  {
   "cell_type": "code",
   "execution_count": null,
   "metadata": {},
   "outputs": [],
   "source": []
  }
 ],
 "metadata": {
  "kernelspec": {
   "display_name": "Python 3",
   "language": "python",
   "name": "python3"
  },
  "language_info": {
   "codemirror_mode": {
    "name": "ipython",
    "version": 3
   },
   "file_extension": ".py",
   "mimetype": "text/x-python",
   "name": "python",
   "nbconvert_exporter": "python",
   "pygments_lexer": "ipython3",
   "version": "3.6.5"
  }
 },
 "nbformat": 4,
 "nbformat_minor": 2
}
